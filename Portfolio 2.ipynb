{
 "cells": [
  {
   "cell_type": "markdown",
   "metadata": {},
   "source": [
    "# Analysis of Energy Data\n",
    "## Standard imports"
   ]
  },
  {
   "cell_type": "code",
   "execution_count": 1,
   "metadata": {},
   "outputs": [],
   "source": [
    "import pandas as pd\n",
    "import numpy as np\n",
    "\n",
    "from sklearn.model_selection import train_test_split\n",
    "from sklearn.metrics import mean_squared_error, r2_score\n",
    "from sklearn import linear_model\n",
    "from sklearn.feature_selection import RFE\n",
    "from sklearn.linear_model import LinearRegression\n",
    "\n",
    "import seaborn as sns\n",
    "import matplotlib.pylab as plt\n",
    "%matplotlib inline"
   ]
  },
  {
   "cell_type": "markdown",
   "metadata": {},
   "source": [
    "## Import [data](https://github.com/LuisM78/Appliances-energy-prediction-data)"
   ]
  },
  {
   "cell_type": "code",
   "execution_count": 2,
   "metadata": {},
   "outputs": [],
   "source": [
    "data = pd.read_csv(\"energydata_complete.csv\")\n",
    "data['date'] = pd.to_datetime(data['date'])\n",
    "data.index = data['date']"
   ]
  },
  {
   "cell_type": "markdown",
   "metadata": {},
   "source": [
    "## Recreate \"seconds from midnight\" data column calculated from date field with help from [here](https://stackoverflow.com/a/41252517)"
   ]
  },
  {
   "cell_type": "code",
   "execution_count": 3,
   "metadata": {},
   "outputs": [],
   "source": [
    "def secsFromDT (row):\n",
    "    time = str(row[0].time())\n",
    "    return sum(x * int(t) for x, t in zip([3600, 60, 1], time.split(\":\")))\n",
    "data['NSM'] = data.apply(secsFromDT, axis=1)\n",
    "del data['date']"
   ]
  },
  {
   "cell_type": "markdown",
   "metadata": {},
   "source": [
    "## Run linear regression on all fields\n",
    "Our result is roughly RMSE: 92, R^2: 0.17  \n",
    "Compared to the [paper](http://dx.doi.org/10.1016/j.enbuild.2017.01.083)'s result of RMSE: 94, R^2: 0.18"
   ]
  },
  {
   "cell_type": "code",
   "execution_count": 98,
   "metadata": {},
   "outputs": [
    {
     "name": "stdout",
     "output_type": "stream",
     "text": [
      "RMSE: 95.1658137458819\n",
      "R^2: 0.16999258490857394\n"
     ]
    }
   ],
   "source": [
    "# Load all fields but Appliances and test against Appliances\n",
    "X, y = [data.iloc[:, 1:], data.Appliances]\n",
    "\n",
    "# Save 75% of data for training, 25% for testing\n",
    "X_train, X_test, y_train, y_test = train_test_split(X, y, test_size=0.25)\n",
    "\n",
    "# Train model and use to predict on our test data\n",
    "reg = LinearRegression()\n",
    "model = reg.fit(X_train, y_train)\n",
    "y_pred = reg.predict(X_test)\n",
    "\n",
    "# Compute the root-mean-square-error and root-mean-square\n",
    "print(\"RMSE:\", np.sqrt(mean_squared_error(y_test, y_pred)))\n",
    "print(\"R^2:\", r2_score(y_test, y_pred))"
   ]
  },
  {
   "cell_type": "code",
   "execution_count": 5,
   "metadata": {},
   "outputs": [
    {
     "name": "stdout",
     "output_type": "stream",
     "text": [
      "RMSE: 97.77802046101625\n",
      "R^2: 0.09040961783537804 \n",
      "\n",
      "1:\tT3          24.67\n",
      "2:\tT2          18.61\n",
      "3:\tRH_2        17.77\n",
      "4:\tRH_1        16.9\n",
      "5:\tT9          9.83\n"
     ]
    }
   ],
   "source": [
    "# Using the same data as before, use an RFE to find the top 5 predictors\n",
    "estimator = LinearRegression()\n",
    "selector = RFE(estimator, 5)\n",
    "selector = selector.fit(X, y)\n",
    "\n",
    "# Test the model\n",
    "support = selector.get_support()\n",
    "predicted = selector.predict(X)\n",
    "print(\"RMSE:\", np.sqrt(mean_squared_error(y, predicted)))\n",
    "print(\"R^2:\", r2_score(y, predicted), \"\\n\")\n",
    "\n",
    "# Print the top 5 features and respective coefficent\n",
    "d = dict(zip([*data.columns[1:][support]], np.absolute(selector.estimator_.coef_)))\n",
    "for i, field in enumerate(sorted(d, key=d.get, reverse=True)):\n",
    "    print(str(i+1) + \":\\t\" + field.ljust(12) + str(round(d[field],2)))"
   ]
  }
 ],
 "metadata": {
  "kernelspec": {
   "display_name": "Python 3",
   "language": "python",
   "name": "python3"
  },
  "language_info": {
   "codemirror_mode": {
    "name": "ipython",
    "version": 3
   },
   "file_extension": ".py",
   "mimetype": "text/x-python",
   "name": "python",
   "nbconvert_exporter": "python",
   "pygments_lexer": "ipython3",
   "version": "3.6.8"
  }
 },
 "nbformat": 4,
 "nbformat_minor": 2
}
