{
 "cells": [
  {
   "cell_type": "code",
   "execution_count": 1,
   "metadata": {},
   "outputs": [],
   "source": [
    "import pandas as pd\n",
    "from matplotlib import pyplot as plt\n",
    "from datetime import timedelta\n",
    "plt.style.use('seaborn')\n",
    "%matplotlib inline"
   ]
  },
  {
   "cell_type": "markdown",
   "metadata": {},
   "source": [
    "# Analysis of Cycling Data\n",
    "\n",
    "## Loading Data\n",
    "\n",
    "The first dataset is an export of my ride data from [Strava](https://strava.com/), an online social \n",
    "network site for cycling and other sports.  This data is a log of every ride since the start of 2018\n",
    "and contains summary data like the distance and average speed.  It was exported using \n",
    "the script `stravaget.py` which uses the stravalib module to read data. Some details of\n",
    "the fields exported by that script can be seen in [the documentation for stravalib](https://pythonhosted.org/stravalib/api.html#stravalib.model.Activity). \n",
    "\n",
    "The exported data is a CSV file so that's easy to read, however the date information in the file is \n",
    "recorded in a different timezone (UTC) so we need to do a bit of conversion.  In reading the data I'm\n",
    "setting the index of the data frame to be the datetime of the ride. "
   ]
  },
  {
   "cell_type": "code",
   "execution_count": 2,
   "metadata": {},
   "outputs": [
    {
     "data": {
      "text/html": [
       "<div>\n",
       "<style scoped>\n",
       "    .dataframe tbody tr th:only-of-type {\n",
       "        vertical-align: middle;\n",
       "    }\n",
       "\n",
       "    .dataframe tbody tr th {\n",
       "        vertical-align: top;\n",
       "    }\n",
       "\n",
       "    .dataframe thead th {\n",
       "        text-align: right;\n",
       "    }\n",
       "</style>\n",
       "<table border=\"1\" class=\"dataframe\">\n",
       "  <thead>\n",
       "    <tr style=\"text-align: right;\">\n",
       "      <th></th>\n",
       "      <th>average_heartrate</th>\n",
       "      <th>average_temp</th>\n",
       "      <th>average_watts</th>\n",
       "      <th>device_watts</th>\n",
       "      <th>distance</th>\n",
       "      <th>elapsed_time</th>\n",
       "      <th>elevation_gain</th>\n",
       "      <th>kudos</th>\n",
       "      <th>moving_time</th>\n",
       "      <th>workout_type</th>\n",
       "    </tr>\n",
       "    <tr>\n",
       "      <th>date</th>\n",
       "      <th></th>\n",
       "      <th></th>\n",
       "      <th></th>\n",
       "      <th></th>\n",
       "      <th></th>\n",
       "      <th></th>\n",
       "      <th></th>\n",
       "      <th></th>\n",
       "      <th></th>\n",
       "      <th></th>\n",
       "    </tr>\n",
       "  </thead>\n",
       "  <tbody>\n",
       "    <tr>\n",
       "      <th>2018-01-03 07:47:51+11:00</th>\n",
       "      <td>100.6</td>\n",
       "      <td>21.0</td>\n",
       "      <td>73.8</td>\n",
       "      <td>False</td>\n",
       "      <td>15.2</td>\n",
       "      <td>94</td>\n",
       "      <td>316.00 m</td>\n",
       "      <td>10</td>\n",
       "      <td>73</td>\n",
       "      <td>Ride</td>\n",
       "    </tr>\n",
       "    <tr>\n",
       "      <th>2018-01-04 12:36:53+11:00</th>\n",
       "      <td>NaN</td>\n",
       "      <td>24.0</td>\n",
       "      <td>131.7</td>\n",
       "      <td>False</td>\n",
       "      <td>18.0</td>\n",
       "      <td>52</td>\n",
       "      <td>236.00 m</td>\n",
       "      <td>5</td>\n",
       "      <td>46</td>\n",
       "      <td>Ride</td>\n",
       "    </tr>\n",
       "    <tr>\n",
       "      <th>2018-01-04 13:56:00+11:00</th>\n",
       "      <td>83.1</td>\n",
       "      <td>25.0</td>\n",
       "      <td>13.8</td>\n",
       "      <td>False</td>\n",
       "      <td>0.0</td>\n",
       "      <td>3</td>\n",
       "      <td>0.00 m</td>\n",
       "      <td>2</td>\n",
       "      <td>2</td>\n",
       "      <td>Ride</td>\n",
       "    </tr>\n",
       "    <tr>\n",
       "      <th>2018-01-04 16:37:04+11:00</th>\n",
       "      <td>110.1</td>\n",
       "      <td>24.0</td>\n",
       "      <td>113.6</td>\n",
       "      <td>False</td>\n",
       "      <td>22.9</td>\n",
       "      <td>77</td>\n",
       "      <td>246.00 m</td>\n",
       "      <td>8</td>\n",
       "      <td>64</td>\n",
       "      <td>Ride</td>\n",
       "    </tr>\n",
       "    <tr>\n",
       "      <th>2018-01-06 06:22:46+11:00</th>\n",
       "      <td>110.9</td>\n",
       "      <td>20.0</td>\n",
       "      <td>147.7</td>\n",
       "      <td>True</td>\n",
       "      <td>58.4</td>\n",
       "      <td>189</td>\n",
       "      <td>676.00 m</td>\n",
       "      <td>12</td>\n",
       "      <td>144</td>\n",
       "      <td>Ride</td>\n",
       "    </tr>\n",
       "  </tbody>\n",
       "</table>\n",
       "</div>"
      ],
      "text/plain": [
       "                           average_heartrate  average_temp  average_watts  \\\n",
       "date                                                                        \n",
       "2018-01-03 07:47:51+11:00              100.6          21.0           73.8   \n",
       "2018-01-04 12:36:53+11:00                NaN          24.0          131.7   \n",
       "2018-01-04 13:56:00+11:00               83.1          25.0           13.8   \n",
       "2018-01-04 16:37:04+11:00              110.1          24.0          113.6   \n",
       "2018-01-06 06:22:46+11:00              110.9          20.0          147.7   \n",
       "\n",
       "                          device_watts  distance  elapsed_time elevation_gain  \\\n",
       "date                                                                            \n",
       "2018-01-03 07:47:51+11:00        False      15.2            94       316.00 m   \n",
       "2018-01-04 12:36:53+11:00        False      18.0            52       236.00 m   \n",
       "2018-01-04 13:56:00+11:00        False       0.0             3         0.00 m   \n",
       "2018-01-04 16:37:04+11:00        False      22.9            77       246.00 m   \n",
       "2018-01-06 06:22:46+11:00         True      58.4           189       676.00 m   \n",
       "\n",
       "                           kudos  moving_time workout_type  \n",
       "date                                                        \n",
       "2018-01-03 07:47:51+11:00     10           73         Ride  \n",
       "2018-01-04 12:36:53+11:00      5           46         Ride  \n",
       "2018-01-04 13:56:00+11:00      2            2         Ride  \n",
       "2018-01-04 16:37:04+11:00      8           64         Ride  \n",
       "2018-01-06 06:22:46+11:00     12          144         Ride  "
      ]
     },
     "execution_count": 2,
     "metadata": {},
     "output_type": "execute_result"
    }
   ],
   "source": [
    "strava = pd.read_csv('data/strava_export.csv', index_col='date', parse_dates=True)\n",
    "strava.index = strava.index.tz_convert('Australia/Sydney')\n",
    "strava.head()"
   ]
  },
  {
   "cell_type": "markdown",
   "metadata": {},
   "source": [
    "The second dataset comes from an application called [GoldenCheetah](https://www.goldencheetah.org/) which provides\n",
    "some analytics services over ride data.  This has some of the same fields but adds a lot of analysis of the \n",
    "power, speed and heart rate data in each ride.  This data overlaps with the Strava data but doesn't include all \n",
    "of the same rides. \n",
    "\n",
    "Again we create an index using the datetime for each ride, this time combining two columns in the data (date and time) \n",
    "and localising to Sydney so that the times match those for the Strava data. "
   ]
  },
  {
   "cell_type": "code",
   "execution_count": 3,
   "metadata": {
    "scrolled": true
   },
   "outputs": [
    {
     "data": {
      "text/html": [
       "<div>\n",
       "<style scoped>\n",
       "    .dataframe tbody tr th:only-of-type {\n",
       "        vertical-align: middle;\n",
       "    }\n",
       "\n",
       "    .dataframe tbody tr th {\n",
       "        vertical-align: top;\n",
       "    }\n",
       "\n",
       "    .dataframe thead th {\n",
       "        text-align: right;\n",
       "    }\n",
       "</style>\n",
       "<table border=\"1\" class=\"dataframe\">\n",
       "  <thead>\n",
       "    <tr style=\"text-align: right;\">\n",
       "      <th></th>\n",
       "      <th>date</th>\n",
       "      <th>time</th>\n",
       "      <th>filename</th>\n",
       "      <th>axPower</th>\n",
       "      <th>aPower Relative Intensity</th>\n",
       "      <th>aBikeScore</th>\n",
       "      <th>Skiba aVI</th>\n",
       "      <th>aPower Response Index</th>\n",
       "      <th>aIsoPower</th>\n",
       "      <th>aIF</th>\n",
       "      <th>...</th>\n",
       "      <th>Rest AVNN</th>\n",
       "      <th>Rest SDNN</th>\n",
       "      <th>Rest rMSSD</th>\n",
       "      <th>Rest PNN50</th>\n",
       "      <th>Rest LF</th>\n",
       "      <th>Rest HF</th>\n",
       "      <th>HRV Recovery Points</th>\n",
       "      <th>NP</th>\n",
       "      <th>IF</th>\n",
       "      <th>TSS</th>\n",
       "    </tr>\n",
       "  </thead>\n",
       "  <tbody>\n",
       "    <tr>\n",
       "      <th>2018-01-28 06:39:49+11:00</th>\n",
       "      <td>01/28/18</td>\n",
       "      <td>06:39:49</td>\n",
       "      <td>2018_01_28_06_39_49.json</td>\n",
       "      <td>202.211</td>\n",
       "      <td>0.75452</td>\n",
       "      <td>16.6520</td>\n",
       "      <td>1.31920</td>\n",
       "      <td>1.67755</td>\n",
       "      <td>223.621</td>\n",
       "      <td>0.83441</td>\n",
       "      <td>...</td>\n",
       "      <td>0</td>\n",
       "      <td>0</td>\n",
       "      <td>0</td>\n",
       "      <td>0</td>\n",
       "      <td>0</td>\n",
       "      <td>0</td>\n",
       "      <td>0</td>\n",
       "      <td>222.856</td>\n",
       "      <td>0.83155</td>\n",
       "      <td>20.2257</td>\n",
       "    </tr>\n",
       "    <tr>\n",
       "      <th>2018-01-28 07:01:32+11:00</th>\n",
       "      <td>01/28/18</td>\n",
       "      <td>07:01:32</td>\n",
       "      <td>2018_01_28_07_01_32.json</td>\n",
       "      <td>226.039</td>\n",
       "      <td>0.84343</td>\n",
       "      <td>80.2669</td>\n",
       "      <td>1.21137</td>\n",
       "      <td>1.54250</td>\n",
       "      <td>246.185</td>\n",
       "      <td>0.91860</td>\n",
       "      <td>...</td>\n",
       "      <td>0</td>\n",
       "      <td>0</td>\n",
       "      <td>0</td>\n",
       "      <td>0</td>\n",
       "      <td>0</td>\n",
       "      <td>0</td>\n",
       "      <td>0</td>\n",
       "      <td>245.365</td>\n",
       "      <td>0.91554</td>\n",
       "      <td>94.5787</td>\n",
       "    </tr>\n",
       "    <tr>\n",
       "      <th>2018-02-01 08:13:34+11:00</th>\n",
       "      <td>02/01/18</td>\n",
       "      <td>08:13:34</td>\n",
       "      <td>2018_02_01_08_13_34.json</td>\n",
       "      <td>0.000</td>\n",
       "      <td>0.00000</td>\n",
       "      <td>0.0000</td>\n",
       "      <td>0.00000</td>\n",
       "      <td>0.00000</td>\n",
       "      <td>0.000</td>\n",
       "      <td>0.00000</td>\n",
       "      <td>...</td>\n",
       "      <td>0</td>\n",
       "      <td>0</td>\n",
       "      <td>0</td>\n",
       "      <td>0</td>\n",
       "      <td>0</td>\n",
       "      <td>0</td>\n",
       "      <td>0</td>\n",
       "      <td>0.000</td>\n",
       "      <td>0.00000</td>\n",
       "      <td>0.0000</td>\n",
       "    </tr>\n",
       "    <tr>\n",
       "      <th>2018-02-06 08:06:42+11:00</th>\n",
       "      <td>02/06/18</td>\n",
       "      <td>08:06:42</td>\n",
       "      <td>2018_02_06_08_06_42.json</td>\n",
       "      <td>221.672</td>\n",
       "      <td>0.82714</td>\n",
       "      <td>78.8866</td>\n",
       "      <td>1.35775</td>\n",
       "      <td>1.86002</td>\n",
       "      <td>254.409</td>\n",
       "      <td>0.94929</td>\n",
       "      <td>...</td>\n",
       "      <td>0</td>\n",
       "      <td>0</td>\n",
       "      <td>0</td>\n",
       "      <td>0</td>\n",
       "      <td>0</td>\n",
       "      <td>0</td>\n",
       "      <td>0</td>\n",
       "      <td>253.702</td>\n",
       "      <td>0.94665</td>\n",
       "      <td>98.3269</td>\n",
       "    </tr>\n",
       "    <tr>\n",
       "      <th>2018-02-07 17:59:05+11:00</th>\n",
       "      <td>02/07/18</td>\n",
       "      <td>17:59:05</td>\n",
       "      <td>2018_02_07_17_59_05.json</td>\n",
       "      <td>218.211</td>\n",
       "      <td>0.81422</td>\n",
       "      <td>159.4590</td>\n",
       "      <td>1.47188</td>\n",
       "      <td>1.74658</td>\n",
       "      <td>233.780</td>\n",
       "      <td>0.87231</td>\n",
       "      <td>...</td>\n",
       "      <td>0</td>\n",
       "      <td>0</td>\n",
       "      <td>0</td>\n",
       "      <td>0</td>\n",
       "      <td>0</td>\n",
       "      <td>0</td>\n",
       "      <td>0</td>\n",
       "      <td>232.644</td>\n",
       "      <td>0.86808</td>\n",
       "      <td>171.0780</td>\n",
       "    </tr>\n",
       "  </tbody>\n",
       "</table>\n",
       "<p>5 rows × 362 columns</p>\n",
       "</div>"
      ],
      "text/plain": [
       "                               date      time                  filename  \\\n",
       "2018-01-28 06:39:49+11:00  01/28/18  06:39:49  2018_01_28_06_39_49.json   \n",
       "2018-01-28 07:01:32+11:00  01/28/18  07:01:32  2018_01_28_07_01_32.json   \n",
       "2018-02-01 08:13:34+11:00  02/01/18  08:13:34  2018_02_01_08_13_34.json   \n",
       "2018-02-06 08:06:42+11:00  02/06/18  08:06:42  2018_02_06_08_06_42.json   \n",
       "2018-02-07 17:59:05+11:00  02/07/18  17:59:05  2018_02_07_17_59_05.json   \n",
       "\n",
       "                           axPower  aPower Relative Intensity  aBikeScore  \\\n",
       "2018-01-28 06:39:49+11:00  202.211                    0.75452     16.6520   \n",
       "2018-01-28 07:01:32+11:00  226.039                    0.84343     80.2669   \n",
       "2018-02-01 08:13:34+11:00    0.000                    0.00000      0.0000   \n",
       "2018-02-06 08:06:42+11:00  221.672                    0.82714     78.8866   \n",
       "2018-02-07 17:59:05+11:00  218.211                    0.81422    159.4590   \n",
       "\n",
       "                           Skiba aVI  aPower Response Index  aIsoPower  \\\n",
       "2018-01-28 06:39:49+11:00    1.31920                1.67755    223.621   \n",
       "2018-01-28 07:01:32+11:00    1.21137                1.54250    246.185   \n",
       "2018-02-01 08:13:34+11:00    0.00000                0.00000      0.000   \n",
       "2018-02-06 08:06:42+11:00    1.35775                1.86002    254.409   \n",
       "2018-02-07 17:59:05+11:00    1.47188                1.74658    233.780   \n",
       "\n",
       "                               aIF  ...  Rest AVNN  Rest SDNN  Rest rMSSD  \\\n",
       "2018-01-28 06:39:49+11:00  0.83441  ...          0          0           0   \n",
       "2018-01-28 07:01:32+11:00  0.91860  ...          0          0           0   \n",
       "2018-02-01 08:13:34+11:00  0.00000  ...          0          0           0   \n",
       "2018-02-06 08:06:42+11:00  0.94929  ...          0          0           0   \n",
       "2018-02-07 17:59:05+11:00  0.87231  ...          0          0           0   \n",
       "\n",
       "                           Rest PNN50  Rest LF  Rest HF  HRV Recovery Points  \\\n",
       "2018-01-28 06:39:49+11:00           0        0        0                    0   \n",
       "2018-01-28 07:01:32+11:00           0        0        0                    0   \n",
       "2018-02-01 08:13:34+11:00           0        0        0                    0   \n",
       "2018-02-06 08:06:42+11:00           0        0        0                    0   \n",
       "2018-02-07 17:59:05+11:00           0        0        0                    0   \n",
       "\n",
       "                                NP       IF       TSS  \n",
       "2018-01-28 06:39:49+11:00  222.856  0.83155   20.2257  \n",
       "2018-01-28 07:01:32+11:00  245.365  0.91554   94.5787  \n",
       "2018-02-01 08:13:34+11:00    0.000  0.00000    0.0000  \n",
       "2018-02-06 08:06:42+11:00  253.702  0.94665   98.3269  \n",
       "2018-02-07 17:59:05+11:00  232.644  0.86808  171.0780  \n",
       "\n",
       "[5 rows x 362 columns]"
      ]
     },
     "execution_count": 3,
     "metadata": {},
     "output_type": "execute_result"
    }
   ],
   "source": [
    "cheetah = pd.read_csv('data/cheetah.csv', skipinitialspace=True)\n",
    "cheetah.index = pd.to_datetime(cheetah['date'] + ' ' + cheetah['time'])\n",
    "cheetah.index = cheetah.index.tz_localize('Australia/Sydney')\n",
    "cheetah.head()"
   ]
  },
  {
   "cell_type": "markdown",
   "metadata": {},
   "source": [
    "The GoldenCheetah data contains many many variables (columns) and I won't go into all of them here.\n",
    "Some of the GoldenCheetah parameters are defined [in thier documentation](https://github.com/GoldenCheetah/GoldenCheetah/wiki/UG_Glossary).  "
   ]
  },
  {
   "cell_type": "markdown",
   "metadata": {},
   "source": [
    "## Combining Data Sets\n",
    "\n",
    "First, we combine these two data frames using the [`join` method of Pandas](https://pandas.pydata.org/pandas-docs/stable/user_guide/merging.html#joining-on-index).   The goal is to keep only those rows of data \n",
    "that appear in __both__ data frames so that we have complete data for every row.  "
   ]
  },
  {
   "cell_type": "code",
   "execution_count": 4,
   "metadata": {},
   "outputs": [
    {
     "data": {
      "text/plain": [
       "(268, 372)"
      ]
     },
     "execution_count": 4,
     "metadata": {},
     "output_type": "execute_result"
    }
   ],
   "source": [
    "df = strava.join(cheetah)\n",
    "df.shape"
   ]
  },
  {
   "cell_type": "markdown",
   "metadata": {},
   "source": [
    "## Remove MTB Rides"
   ]
  },
  {
   "cell_type": "code",
   "execution_count": 5,
   "metadata": {},
   "outputs": [],
   "source": [
    "df = df[df[\"device_watts\"] > 0]"
   ]
  },
  {
   "cell_type": "markdown",
   "metadata": {},
   "source": [
    "## Determining Distribution\n",
    "Of values:\n",
    "* time\n",
    "* distance\n",
    "* average speed\n",
    "* average power\n",
    "* TSS \n",
    "\n",
    "According to the generated graphs, we see that speed, power and TTS follow a normal distribution whereas time and distance don't."
   ]
  },
  {
   "cell_type": "code",
   "execution_count": 6,
   "metadata": {},
   "outputs": [
    {
     "data": {
      "image/png": "[encoded data removed]",
      "text/plain": [
       "<Figure size 432x288 with 1 Axes>"
      ]
     },
     "metadata": {
      "needs_background": "light"
     },
     "output_type": "display_data"
    },
    {
     "data": {
      "image/png": "[encoded data removed]",
      "text/plain": [
       "<Figure size 432x288 with 1 Axes>"
      ]
     },
     "metadata": {
      "needs_background": "light"
     },
     "output_type": "display_data"
    },
    {
     "data": {
      "image/png": "[encoded data removed]",
      "text/plain": [
       "<Figure size 432x288 with 1 Axes>"
      ]
     },
     "metadata": {
      "needs_background": "light"
     },
     "output_type": "display_data"
    },
    {
     "data": {
      "image/png": "[encoded data removed]",
      "text/plain": [
       "<Figure size 432x288 with 1 Axes>"
      ]
     },
     "metadata": {
      "needs_background": "light"
     },
     "output_type": "display_data"
    },
    {
     "data": {
      "image/png": "[encoded data removed]",
      "text/plain": [
       "<Figure size 432x288 with 1 Axes>"
      ]
     },
     "metadata": {
      "needs_background": "light"
     },
     "output_type": "display_data"
    }
   ],
   "source": [
    "def showHist (item):\n",
    "    df[item].hist()\n",
    "    plt.title(item.title())\n",
    "    plt.xlabel(item.title())\n",
    "    plt.ylabel('Amount')\n",
    "    plt.show()\n",
    "    \n",
    "for i in [\"moving_time\",\"distance\",\"Average Speed\",\"Average Power\",\"TSS\"]:\n",
    "    showHist(i)"
   ]
  },
  {
   "cell_type": "markdown",
   "metadata": {},
   "source": [
    "## Determining Relationships\n",
    "For the following variables, any noteable relationships?\n",
    "* Distance\n",
    "* Moving Time\n",
    "* Average Speed\n",
    "* Heart Rate\n",
    "* Power (watts)\n",
    "* Normalised power (NP)\n",
    "* Training Stress Score\n",
    "* Elevation Gain\n",
    "\n",
    "We can see that time and distance are highly correlated, which only makes sense, as naturally, the longer you ride, the furthur you'll get.\n",
    "Elevation gain seems correlated to distance. The longer you ride, the more hills you'll encounter, which seems to make sense.\n",
    "There don't seem to be any variables that are anti-correlated (~-1)."
   ]
  },
  {
   "cell_type": "code",
   "execution_count": 7,
   "metadata": {},
   "outputs": [
    {
     "data": {
      "text/html": [
       "<style  type=\"text/css\" >\n",
       "    #T_ce35373e_bfcb_11e9_b068_2c4d545382bdrow0_col0 {\n",
       "            background-color:  #b40426;\n",
       "            color:  #f1f1f1;\n",
       "        }    #T_ce35373e_bfcb_11e9_b068_2c4d545382bdrow0_col1 {\n",
       "            background-color:  #bd1f2d;\n",
       "            color:  #f1f1f1;\n",
       "        }    #T_ce35373e_bfcb_11e9_b068_2c4d545382bdrow0_col2 {\n",
       "            background-color:  #799cf8;\n",
       "            color:  #000000;\n",
       "        }    #T_ce35373e_bfcb_11e9_b068_2c4d545382bdrow0_col3 {\n",
       "            background-color:  #5d7ce6;\n",
       "            color:  #000000;\n",
       "        }    #T_ce35373e_bfcb_11e9_b068_2c4d545382bdrow0_col4 {\n",
       "            background-color:  #6180e9;\n",
       "            color:  #000000;\n",
       "        }    #T_ce35373e_bfcb_11e9_b068_2c4d545382bdrow0_col5 {\n",
       "            background-color:  #d65244;\n",
       "            color:  #000000;\n",
       "        }    #T_ce35373e_bfcb_11e9_b068_2c4d545382bdrow0_col6 {\n",
       "            background-color:  #ea7b60;\n",
       "            color:  #000000;\n",
       "        }    #T_ce35373e_bfcb_11e9_b068_2c4d545382bdrow1_col0 {\n",
       "            background-color:  #c0282f;\n",
       "            color:  #f1f1f1;\n",
       "        }    #T_ce35373e_bfcb_11e9_b068_2c4d545382bdrow1_col1 {\n",
       "            background-color:  #b40426;\n",
       "            color:  #f1f1f1;\n",
       "        }    #T_ce35373e_bfcb_11e9_b068_2c4d545382bdrow1_col2 {\n",
       "            background-color:  #3b4cc0;\n",
       "            color:  #f1f1f1;\n",
       "        }    #T_ce35373e_bfcb_11e9_b068_2c4d545382bdrow1_col3 {\n",
       "            background-color:  #4961d2;\n",
       "            color:  #f1f1f1;\n",
       "        }    #T_ce35373e_bfcb_11e9_b068_2c4d545382bdrow1_col4 {\n",
       "            background-color:  #3b4cc0;\n",
       "            color:  #f1f1f1;\n",
       "        }    #T_ce35373e_bfcb_11e9_b068_2c4d545382bdrow1_col5 {\n",
       "            background-color:  #da5a49;\n",
       "            color:  #000000;\n",
       "        }    #T_ce35373e_bfcb_11e9_b068_2c4d545382bdrow1_col6 {\n",
       "            background-color:  #e67259;\n",
       "            color:  #000000;\n",
       "        }    #T_ce35373e_bfcb_11e9_b068_2c4d545382bdrow2_col0 {\n",
       "            background-color:  #3b4cc0;\n",
       "            color:  #f1f1f1;\n",
       "        }    #T_ce35373e_bfcb_11e9_b068_2c4d545382bdrow2_col1 {\n",
       "            background-color:  #3b4cc0;\n",
       "            color:  #f1f1f1;\n",
       "        }    #T_ce35373e_bfcb_11e9_b068_2c4d545382bdrow2_col2 {\n",
       "            background-color:  #b40426;\n",
       "            color:  #f1f1f1;\n",
       "        }    #T_ce35373e_bfcb_11e9_b068_2c4d545382bdrow2_col3 {\n",
       "            background-color:  #adc9fd;\n",
       "            color:  #000000;\n",
       "        }    #T_ce35373e_bfcb_11e9_b068_2c4d545382bdrow2_col4 {\n",
       "            background-color:  #d2dbe8;\n",
       "            color:  #000000;\n",
       "        }    #T_ce35373e_bfcb_11e9_b068_2c4d545382bdrow2_col5 {\n",
       "            background-color:  #3b4cc0;\n",
       "            color:  #f1f1f1;\n",
       "        }    #T_ce35373e_bfcb_11e9_b068_2c4d545382bdrow2_col6 {\n",
       "            background-color:  #3b4cc0;\n",
       "            color:  #f1f1f1;\n",
       "        }    #T_ce35373e_bfcb_11e9_b068_2c4d545382bdrow3_col0 {\n",
       "            background-color:  #465ecf;\n",
       "            color:  #f1f1f1;\n",
       "        }    #T_ce35373e_bfcb_11e9_b068_2c4d545382bdrow3_col1 {\n",
       "            background-color:  #7093f3;\n",
       "            color:  #000000;\n",
       "        }    #T_ce35373e_bfcb_11e9_b068_2c4d545382bdrow3_col2 {\n",
       "            background-color:  #c7d7f0;\n",
       "            color:  #000000;\n",
       "        }    #T_ce35373e_bfcb_11e9_b068_2c4d545382bdrow3_col3 {\n",
       "            background-color:  #b40426;\n",
       "            color:  #f1f1f1;\n",
       "        }    #T_ce35373e_bfcb_11e9_b068_2c4d545382bdrow3_col4 {\n",
       "            background-color:  #7a9df8;\n",
       "            color:  #000000;\n",
       "        }    #T_ce35373e_bfcb_11e9_b068_2c4d545382bdrow3_col5 {\n",
       "            background-color:  #5e7de7;\n",
       "            color:  #000000;\n",
       "        }    #T_ce35373e_bfcb_11e9_b068_2c4d545382bdrow3_col6 {\n",
       "            background-color:  #5b7ae5;\n",
       "            color:  #000000;\n",
       "        }    #T_ce35373e_bfcb_11e9_b068_2c4d545382bdrow4_col0 {\n",
       "            background-color:  #5a78e4;\n",
       "            color:  #000000;\n",
       "        }    #T_ce35373e_bfcb_11e9_b068_2c4d545382bdrow4_col1 {\n",
       "            background-color:  #7295f4;\n",
       "            color:  #000000;\n",
       "        }    #T_ce35373e_bfcb_11e9_b068_2c4d545382bdrow4_col2 {\n",
       "            background-color:  #ead5c9;\n",
       "            color:  #000000;\n",
       "        }    #T_ce35373e_bfcb_11e9_b068_2c4d545382bdrow4_col3 {\n",
       "            background-color:  #8badfd;\n",
       "            color:  #000000;\n",
       "        }    #T_ce35373e_bfcb_11e9_b068_2c4d545382bdrow4_col4 {\n",
       "            background-color:  #b40426;\n",
       "            color:  #f1f1f1;\n",
       "        }    #T_ce35373e_bfcb_11e9_b068_2c4d545382bdrow4_col5 {\n",
       "            background-color:  #c1d4f4;\n",
       "            color:  #000000;\n",
       "        }    #T_ce35373e_bfcb_11e9_b068_2c4d545382bdrow4_col6 {\n",
       "            background-color:  #98b9ff;\n",
       "            color:  #000000;\n",
       "        }    #T_ce35373e_bfcb_11e9_b068_2c4d545382bdrow5_col0 {\n",
       "            background-color:  #d85646;\n",
       "            color:  #000000;\n",
       "        }    #T_ce35373e_bfcb_11e9_b068_2c4d545382bdrow5_col1 {\n",
       "            background-color:  #d65244;\n",
       "            color:  #000000;\n",
       "        }    #T_ce35373e_bfcb_11e9_b068_2c4d545382bdrow5_col2 {\n",
       "            background-color:  #6485ec;\n",
       "            color:  #000000;\n",
       "        }    #T_ce35373e_bfcb_11e9_b068_2c4d545382bdrow5_col3 {\n",
       "            background-color:  #6282ea;\n",
       "            color:  #000000;\n",
       "        }    #T_ce35373e_bfcb_11e9_b068_2c4d545382bdrow5_col4 {\n",
       "            background-color:  #b7cff9;\n",
       "            color:  #000000;\n",
       "        }    #T_ce35373e_bfcb_11e9_b068_2c4d545382bdrow5_col5 {\n",
       "            background-color:  #b40426;\n",
       "            color:  #f1f1f1;\n",
       "        }    #T_ce35373e_bfcb_11e9_b068_2c4d545382bdrow5_col6 {\n",
       "            background-color:  #e7745b;\n",
       "            color:  #000000;\n",
       "        }    #T_ce35373e_bfcb_11e9_b068_2c4d545382bdrow6_col0 {\n",
       "            background-color:  #f18d6f;\n",
       "            color:  #000000;\n",
       "        }    #T_ce35373e_bfcb_11e9_b068_2c4d545382bdrow6_col1 {\n",
       "            background-color:  #e57058;\n",
       "            color:  #000000;\n",
       "        }    #T_ce35373e_bfcb_11e9_b068_2c4d545382bdrow6_col2 {\n",
       "            background-color:  #4055c8;\n",
       "            color:  #f1f1f1;\n",
       "        }    #T_ce35373e_bfcb_11e9_b068_2c4d545382bdrow6_col3 {\n",
       "            background-color:  #3b4cc0;\n",
       "            color:  #f1f1f1;\n",
       "        }    #T_ce35373e_bfcb_11e9_b068_2c4d545382bdrow6_col4 {\n",
       "            background-color:  #6a8bef;\n",
       "            color:  #000000;\n",
       "        }    #T_ce35373e_bfcb_11e9_b068_2c4d545382bdrow6_col5 {\n",
       "            background-color:  #ec7f63;\n",
       "            color:  #000000;\n",
       "        }    #T_ce35373e_bfcb_11e9_b068_2c4d545382bdrow6_col6 {\n",
       "            background-color:  #b40426;\n",
       "            color:  #f1f1f1;\n",
       "        }</style><table id=\"T_ce35373e_bfcb_11e9_b068_2c4d545382bd\" ><thead>    <tr>        <th class=\"blank level0\" ></th>        <th class=\"col_heading level0 col0\" >distance</th>        <th class=\"col_heading level0 col1\" >moving_time</th>        <th class=\"col_heading level0 col2\" >Average Speed</th>        <th class=\"col_heading level0 col3\" >Average Heart Rate</th>        <th class=\"col_heading level0 col4\" >NP</th>        <th class=\"col_heading level0 col5\" >aBikeScore</th>        <th class=\"col_heading level0 col6\" >Elevation Gain</th>    </tr></thead><tbody>\n",
       "                <tr>\n",
       "                        <th id=\"T_ce35373e_bfcb_11e9_b068_2c4d545382bdlevel0_row0\" class=\"row_heading level0 row0\" >distance</th>\n",
       "                        <td id=\"T_ce35373e_bfcb_11e9_b068_2c4d545382bdrow0_col0\" class=\"data row0 col0\" >1</td>\n",
       "                        <td id=\"T_ce35373e_bfcb_11e9_b068_2c4d545382bdrow0_col1\" class=\"data row0 col1\" >0.97</td>\n",
       "                        <td id=\"T_ce35373e_bfcb_11e9_b068_2c4d545382bdrow0_col2\" class=\"data row0 col2\" >0.11</td>\n",
       "                        <td id=\"T_ce35373e_bfcb_11e9_b068_2c4d545382bdrow0_col3\" class=\"data row0 col3\" >0.15</td>\n",
       "                        <td id=\"T_ce35373e_bfcb_11e9_b068_2c4d545382bdrow0_col4\" class=\"data row0 col4\" >0.2</td>\n",
       "                        <td id=\"T_ce35373e_bfcb_11e9_b068_2c4d545382bdrow0_col5\" class=\"data row0 col5\" >0.91</td>\n",
       "                        <td id=\"T_ce35373e_bfcb_11e9_b068_2c4d545382bdrow0_col6\" class=\"data row0 col6\" >0.8</td>\n",
       "            </tr>\n",
       "            <tr>\n",
       "                        <th id=\"T_ce35373e_bfcb_11e9_b068_2c4d545382bdlevel0_row1\" class=\"row_heading level0 row1\" >moving_time</th>\n",
       "                        <td id=\"T_ce35373e_bfcb_11e9_b068_2c4d545382bdrow1_col0\" class=\"data row1 col0\" >0.97</td>\n",
       "                        <td id=\"T_ce35373e_bfcb_11e9_b068_2c4d545382bdrow1_col1\" class=\"data row1 col1\" >1</td>\n",
       "                        <td id=\"T_ce35373e_bfcb_11e9_b068_2c4d545382bdrow1_col2\" class=\"data row1 col2\" >-0.1</td>\n",
       "                        <td id=\"T_ce35373e_bfcb_11e9_b068_2c4d545382bdrow1_col3\" class=\"data row1 col3\" >0.086</td>\n",
       "                        <td id=\"T_ce35373e_bfcb_11e9_b068_2c4d545382bdrow1_col4\" class=\"data row1 col4\" >0.092</td>\n",
       "                        <td id=\"T_ce35373e_bfcb_11e9_b068_2c4d545382bdrow1_col5\" class=\"data row1 col5\" >0.89</td>\n",
       "                        <td id=\"T_ce35373e_bfcb_11e9_b068_2c4d545382bdrow1_col6\" class=\"data row1 col6\" >0.83</td>\n",
       "            </tr>\n",
       "            <tr>\n",
       "                        <th id=\"T_ce35373e_bfcb_11e9_b068_2c4d545382bdlevel0_row2\" class=\"row_heading level0 row2\" >Average Speed</th>\n",
       "                        <td id=\"T_ce35373e_bfcb_11e9_b068_2c4d545382bdrow2_col0\" class=\"data row2 col0\" >0.11</td>\n",
       "                        <td id=\"T_ce35373e_bfcb_11e9_b068_2c4d545382bdrow2_col1\" class=\"data row2 col1\" >-0.1</td>\n",
       "                        <td id=\"T_ce35373e_bfcb_11e9_b068_2c4d545382bdrow2_col2\" class=\"data row2 col2\" >1</td>\n",
       "                        <td id=\"T_ce35373e_bfcb_11e9_b068_2c4d545382bdrow2_col3\" class=\"data row2 col3\" >0.37</td>\n",
       "                        <td id=\"T_ce35373e_bfcb_11e9_b068_2c4d545382bdrow2_col4\" class=\"data row2 col4\" >0.51</td>\n",
       "                        <td id=\"T_ce35373e_bfcb_11e9_b068_2c4d545382bdrow2_col5\" class=\"data row2 col5\" >0.049</td>\n",
       "                        <td id=\"T_ce35373e_bfcb_11e9_b068_2c4d545382bdrow2_col6\" class=\"data row2 col6\" >-0.078</td>\n",
       "            </tr>\n",
       "            <tr>\n",
       "                        <th id=\"T_ce35373e_bfcb_11e9_b068_2c4d545382bdlevel0_row3\" class=\"row_heading level0 row3\" >Average Heart Rate</th>\n",
       "                        <td id=\"T_ce35373e_bfcb_11e9_b068_2c4d545382bdrow3_col0\" class=\"data row3 col0\" >0.15</td>\n",
       "                        <td id=\"T_ce35373e_bfcb_11e9_b068_2c4d545382bdrow3_col1\" class=\"data row3 col1\" >0.086</td>\n",
       "                        <td id=\"T_ce35373e_bfcb_11e9_b068_2c4d545382bdrow3_col2\" class=\"data row3 col2\" >0.37</td>\n",
       "                        <td id=\"T_ce35373e_bfcb_11e9_b068_2c4d545382bdrow3_col3\" class=\"data row3 col3\" >1</td>\n",
       "                        <td id=\"T_ce35373e_bfcb_11e9_b068_2c4d545382bdrow3_col4\" class=\"data row3 col4\" >0.27</td>\n",
       "                        <td id=\"T_ce35373e_bfcb_11e9_b068_2c4d545382bdrow3_col5\" class=\"data row3 col5\" >0.16</td>\n",
       "                        <td id=\"T_ce35373e_bfcb_11e9_b068_2c4d545382bdrow3_col6\" class=\"data row3 col6\" >0.038</td>\n",
       "            </tr>\n",
       "            <tr>\n",
       "                        <th id=\"T_ce35373e_bfcb_11e9_b068_2c4d545382bdlevel0_row4\" class=\"row_heading level0 row4\" >NP</th>\n",
       "                        <td id=\"T_ce35373e_bfcb_11e9_b068_2c4d545382bdrow4_col0\" class=\"data row4 col0\" >0.2</td>\n",
       "                        <td id=\"T_ce35373e_bfcb_11e9_b068_2c4d545382bdrow4_col1\" class=\"data row4 col1\" >0.092</td>\n",
       "                        <td id=\"T_ce35373e_bfcb_11e9_b068_2c4d545382bdrow4_col2\" class=\"data row4 col2\" >0.51</td>\n",
       "                        <td id=\"T_ce35373e_bfcb_11e9_b068_2c4d545382bdrow4_col3\" class=\"data row4 col3\" >0.27</td>\n",
       "                        <td id=\"T_ce35373e_bfcb_11e9_b068_2c4d545382bdrow4_col4\" class=\"data row4 col4\" >1</td>\n",
       "                        <td id=\"T_ce35373e_bfcb_11e9_b068_2c4d545382bdrow4_col5\" class=\"data row4 col5\" >0.43</td>\n",
       "                        <td id=\"T_ce35373e_bfcb_11e9_b068_2c4d545382bdrow4_col6\" class=\"data row4 col6\" >0.23</td>\n",
       "            </tr>\n",
       "            <tr>\n",
       "                        <th id=\"T_ce35373e_bfcb_11e9_b068_2c4d545382bdlevel0_row5\" class=\"row_heading level0 row5\" >aBikeScore</th>\n",
       "                        <td id=\"T_ce35373e_bfcb_11e9_b068_2c4d545382bdrow5_col0\" class=\"data row5 col0\" >0.91</td>\n",
       "                        <td id=\"T_ce35373e_bfcb_11e9_b068_2c4d545382bdrow5_col1\" class=\"data row5 col1\" >0.89</td>\n",
       "                        <td id=\"T_ce35373e_bfcb_11e9_b068_2c4d545382bdrow5_col2\" class=\"data row5 col2\" >0.049</td>\n",
       "                        <td id=\"T_ce35373e_bfcb_11e9_b068_2c4d545382bdrow5_col3\" class=\"data row5 col3\" >0.16</td>\n",
       "                        <td id=\"T_ce35373e_bfcb_11e9_b068_2c4d545382bdrow5_col4\" class=\"data row5 col4\" >0.43</td>\n",
       "                        <td id=\"T_ce35373e_bfcb_11e9_b068_2c4d545382bdrow5_col5\" class=\"data row5 col5\" >1</td>\n",
       "                        <td id=\"T_ce35373e_bfcb_11e9_b068_2c4d545382bdrow5_col6\" class=\"data row5 col6\" >0.82</td>\n",
       "            </tr>\n",
       "            <tr>\n",
       "                        <th id=\"T_ce35373e_bfcb_11e9_b068_2c4d545382bdlevel0_row6\" class=\"row_heading level0 row6\" >Elevation Gain</th>\n",
       "                        <td id=\"T_ce35373e_bfcb_11e9_b068_2c4d545382bdrow6_col0\" class=\"data row6 col0\" >0.8</td>\n",
       "                        <td id=\"T_ce35373e_bfcb_11e9_b068_2c4d545382bdrow6_col1\" class=\"data row6 col1\" >0.83</td>\n",
       "                        <td id=\"T_ce35373e_bfcb_11e9_b068_2c4d545382bdrow6_col2\" class=\"data row6 col2\" >-0.078</td>\n",
       "                        <td id=\"T_ce35373e_bfcb_11e9_b068_2c4d545382bdrow6_col3\" class=\"data row6 col3\" >0.038</td>\n",
       "                        <td id=\"T_ce35373e_bfcb_11e9_b068_2c4d545382bdrow6_col4\" class=\"data row6 col4\" >0.23</td>\n",
       "                        <td id=\"T_ce35373e_bfcb_11e9_b068_2c4d545382bdrow6_col5\" class=\"data row6 col5\" >0.82</td>\n",
       "                        <td id=\"T_ce35373e_bfcb_11e9_b068_2c4d545382bdrow6_col6\" class=\"data row6 col6\" >1</td>\n",
       "            </tr>\n",
       "    </tbody></table>"
      ],
      "text/plain": [
       "<pandas.io.formats.style.Styler at 0x20a84f01710>"
      ]
     },
     "execution_count": 7,
     "metadata": {},
     "output_type": "execute_result"
    }
   ],
   "source": [
    "smallDF = df[[\"distance\",\"moving_time\",\"Average Speed\",\"Average Heart Rate\",\"device_watts\",\"NP\",\"aBikeScore\",\"Elevation Gain\"]]\n",
    "corr = smallDF.corr()\n",
    "corr.style.background_gradient(cmap='coolwarm').set_precision(2)"
   ]
  },
  {
   "cell_type": "markdown",
   "metadata": {},
   "source": [
    "## Analysis\n",
    "\n",
    "* Explore the differences between the three categories: `Race`, `Workout` and `Ride`."
   ]
  },
  {
   "cell_type": "code",
   "execution_count": 8,
   "metadata": {},
   "outputs": [
    {
     "data": {
      "image/png": "[encoded data removed]",
      "text/plain": [
       "<Figure size 432x288 with 1 Axes>"
      ]
     },
     "metadata": {
      "needs_background": "light"
     },
     "output_type": "display_data"
    },
    {
     "data": {
      "image/png": "[encoded data removed]",
      "text/plain": [
       "<Figure size 432x288 with 1 Axes>"
      ]
     },
     "metadata": {
      "needs_background": "light"
     },
     "output_type": "display_data"
    },
    {
     "data": {
      "image/png": "[encoded data removed]",
      "text/plain": [
       "<Figure size 432x288 with 1 Axes>"
      ]
     },
     "metadata": {
      "needs_background": "light"
     },
     "output_type": "display_data"
    },
    {
     "data": {
      "image/png": "[encoded data removed]",
      "text/plain": [
       "<Figure size 432x288 with 1 Axes>"
      ]
     },
     "metadata": {
      "needs_background": "light"
     },
     "output_type": "display_data"
    },
    {
     "data": {
      "image/png": "[encoded data removed]",
      "text/plain": [
       "<Figure size 432x288 with 1 Axes>"
      ]
     },
     "metadata": {
      "needs_background": "light"
     },
     "output_type": "display_data"
    },
    {
     "data": {
      "image/png": "[encoded data removed]",
      "text/plain": [
       "<Figure size 432x288 with 1 Axes>"
      ]
     },
     "metadata": {
      "needs_background": "light"
     },
     "output_type": "display_data"
    }
   ],
   "source": [
    "dfRace = df[(df[\"workout_type\"] == \"Race\") & (df[\"Average Heart Rate\"] > 0)]\n",
    "dfWork = df[(df[\"workout_type\"] == \"Workout\") & (df[\"Average Heart Rate\"] > 0)]\n",
    "dfRide = df[(df[\"workout_type\"] == \"Ride\") & (df[\"Average Heart Rate\"] > 0)]\n",
    "\n",
    "dfRace.plot.scatter(x='moving_time', y='Average Heart Rate', c='darkblue', title='Race')\n",
    "dfWork.plot.scatter(x='moving_time', y='Average Heart Rate', c='red', title='Workout')\n",
    "dfRide.plot.scatter(x='moving_time', y='Average Heart Rate', c='green', title='Ride'); plt.show()\n",
    "\n",
    "dfRace[\"Average Speed\"].hist(color='darkblue'); plt.title('Race Average Speed'); plt.show()\n",
    "dfWork[\"Average Speed\"].hist(color='red'); plt.title('Workout Average Speed'); plt.show()\n",
    "dfRide[\"Average Speed\"].hist(color='green'); plt.title('Ride Average Speed'); plt.show()"
   ]
  },
  {
   "cell_type": "markdown",
   "metadata": {},
   "source": [
    "According to the scatter plots, it seems that:\n",
    "* Races cluster at 1 hour length and have heartrates higher than 130\n",
    "* Workouts are, on average an hour and heartrates greatly vary\n",
    "* Rides widly vary in length and heartrates\n",
    "\n",
    "According to the histogram plots, it seems that:\n",
    "* Races cluster at 35km/h average speed\n",
    "* Workouts cluster at 25km/h average speed\n",
    "* Rides cluster at 25km/h average speed (but vary widly)"
   ]
  }
 ],
 "metadata": {
  "kernelspec": {
   "display_name": "Python 3",
   "language": "python",
   "name": "python3"
  },
  "language_info": {
   "codemirror_mode": {
    "name": "ipython",
    "version": 3
   },
   "file_extension": ".py",
   "mimetype": "text/x-python",
   "name": "python",
   "nbconvert_exporter": "python",
   "pygments_lexer": "ipython3",
   "version": "3.7.3"
  }
 },
 "nbformat": 4,
 "nbformat_minor": 2
}
